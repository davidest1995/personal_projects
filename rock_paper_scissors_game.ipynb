{
  "nbformat": 4,
  "nbformat_minor": 0,
  "metadata": {
    "colab": {
      "provenance": [],
      "authorship_tag": "ABX9TyOEtp+VHe8qf8cGroxo464b",
      "include_colab_link": true
    },
    "kernelspec": {
      "name": "python3",
      "display_name": "Python 3"
    },
    "language_info": {
      "name": "python"
    }
  },
  "cells": [
    {
      "cell_type": "markdown",
      "metadata": {
        "id": "view-in-github",
        "colab_type": "text"
      },
      "source": [
        "<a href=\"https://colab.research.google.com/github/davidest1995/personal_projects/blob/main/rock_paper_scissors_game.ipynb\" target=\"_parent\"><img src=\"https://colab.research.google.com/assets/colab-badge.svg\" alt=\"Open In Colab\"/></a>"
      ]
    },
    {
      "cell_type": "code",
      "execution_count": 1,
      "metadata": {
        "colab": {
          "base_uri": "https://localhost:8080/"
        },
        "id": "FYP_VI5KObaM",
        "outputId": "7fccdbd4-e592-4ef4-8098-4be4fcdd93ef"
      },
      "outputs": [
        {
          "output_type": "stream",
          "name": "stdout",
          "text": [
            "CHOSE BETWEN ROCK; PAPER; SCISSOR; AND WRITE IT: paper\n",
            "['rock', 'paper', 'scissors']\n",
            "2022-09-13\n",
            "THE COMPUTER CHOSE:  scissors\n",
            "I PICKED:  paper\n",
            "YOU LOST\n"
          ]
        }
      ],
      "source": [
        "import random\n",
        "import datetime\n",
        "\n",
        "\n",
        "\n",
        "def rock_paper_scissors(func):\n",
        "    def wrapper(*args, **kwargs):\n",
        "        options= [\"rock\", \"paper\", \"scissors\"]\n",
        "        my_time= datetime.date.today()\n",
        "        print(options) \n",
        "        print(my_time) \n",
        "        play= random.choice(options)\n",
        "        print(\"THE COMPUTER CHOSE:  \" + play)\n",
        "        func(*args, **kwargs)\n",
        "        if play == \"rock\" and hand == \"paper\"\\\n",
        "            or play == \"paper\" and hand == \"scissors\"\\\n",
        "            or play == \"scissors\" and hand == \"rock\":\n",
        "            print(\"YOU WON\")\n",
        "        elif play == hand:\n",
        "            print(\"YOU TIE\")\n",
        "        else:\n",
        "            print(\"YOU LOST\")\n",
        "    return wrapper\n",
        "\n",
        "hand= str(input(\"CHOSE BETWEN ROCK; PAPER; SCISSOR; AND WRITE IT: \"))\n",
        "@rock_paper_scissors\n",
        "def my_turn():\n",
        "    print(\"I PICKED:  \" + hand)\n",
        "\n",
        "if __name__ == \"__main__\":\n",
        "    my_turn()"
      ]
    }
  ]
}