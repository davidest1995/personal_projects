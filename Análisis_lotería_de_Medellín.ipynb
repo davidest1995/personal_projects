{
  "cells": [
    {
      "cell_type": "markdown",
      "metadata": {
        "id": "view-in-github",
        "colab_type": "text"
      },
      "source": [
        "<a href=\"https://colab.research.google.com/github/davidest1995/personal_projects/blob/main/An%C3%A1lisis_loter%C3%ADa_de_Medell%C3%ADn.ipynb\" target=\"_parent\"><img src=\"https://colab.research.google.com/assets/colab-badge.svg\" alt=\"Open In Colab\"/></a>"
      ]
    },
    {
      "cell_type": "markdown",
      "metadata": {
        "id": "OXmQ8kGfmiUx"
      },
      "source": [
        "#Se hará un análisis estadístico con los resultados de la lotería de medellín, en el que se estudiará primero estadísticos basicos de la data, segundo la probabilidad de cada una de las bolas y series por separado con ayuda de esquemas visuales y gráficos."
      ]
    },
    {
      "cell_type": "markdown",
      "metadata": {
        "id": "JtKMw-b9nTMA"
      },
      "source": [
        "##Se importan las librerías necesarias para el análisis"
      ]
    },
    {
      "cell_type": "code",
      "execution_count": 1,
      "metadata": {
        "id": "yjcWCu78lod9"
      },
      "outputs": [],
      "source": [
        "import pandas as pd\n",
        "import numpy as np\n",
        "import io\n",
        "import seaborn as sns\n",
        "# sns para acotar el graf\n",
        "import matplotlib.pyplot as plt\n"
      ]
    },
    {
      "cell_type": "markdown",
      "metadata": {
        "id": "42ALsXXWnZeb"
      },
      "source": [
        "##**Lectura** de la data"
      ]
    },
    {
      "cell_type": "code",
      "execution_count": 2,
      "metadata": {
        "colab": {
          "base_uri": "https://localhost:8080/",
          "height": 74,
          "resources": {
            "http://localhost:8080/nbextensions/google.colab/files.js": {
              "data": "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",
              "headers": [
                [
                  "content-type",
                  "application/javascript"
                ]
              ],
              "ok": true,
              "status": 200,
              "status_text": ""
            }
          }
        },
        "id": "6VjPLZwknf-Y",
        "outputId": "2d22c2b2-6bd4-4368-a2bb-1b284c5c49f9"
      },
      "outputs": [
        {
          "output_type": "display_data",
          "data": {
            "text/plain": [
              "<IPython.core.display.HTML object>"
            ],
            "text/html": [
              "\n",
              "     <input type=\"file\" id=\"files-ac08f333-9211-412f-bad0-cb14661bb2f3\" name=\"files[]\" multiple disabled\n",
              "        style=\"border:none\" />\n",
              "     <output id=\"result-ac08f333-9211-412f-bad0-cb14661bb2f3\">\n",
              "      Upload widget is only available when the cell has been executed in the\n",
              "      current browser session. Please rerun this cell to enable.\n",
              "      </output>\n",
              "      <script src=\"/nbextensions/google.colab/files.js\"></script> "
            ]
          },
          "metadata": {}
        },
        {
          "output_type": "stream",
          "name": "stdout",
          "text": [
            "Saving lotmed.csv to lotmed.csv\n"
          ]
        }
      ],
      "source": [
        "from google.colab import files\n",
        "uploaded = files.upload()"
      ]
    },
    {
      "cell_type": "code",
      "execution_count": 3,
      "metadata": {
        "colab": {
          "base_uri": "https://localhost:8080/",
          "height": 206
        },
        "id": "1wHjk-Z7oDA4",
        "outputId": "63c46f4f-5058-4fc9-9b10-177ba1ac0273"
      },
      "outputs": [
        {
          "output_type": "execute_result",
          "data": {
            "text/plain": [
              "           FECHA DE JUEGO  SORTEO  NÚMERO  SERIE\n",
              "0  01/05/2007 12:00:00 AM    3834    3652    149\n",
              "1  01/12/2007 12:00:00 AM    3835    9407     80\n",
              "2  01/19/2007 12:00:00 AM    3836    9864     97\n",
              "3  01/26/2007 12:00:00 AM    3837    5589     54\n",
              "4  02/02/2007 12:00:00 AM    3838    1721    102"
            ],
            "text/html": [
              "\n",
              "  <div id=\"df-46c42f87-b4e7-4856-acd9-b472de15ceea\">\n",
              "    <div class=\"colab-df-container\">\n",
              "      <div>\n",
              "<style scoped>\n",
              "    .dataframe tbody tr th:only-of-type {\n",
              "        vertical-align: middle;\n",
              "    }\n",
              "\n",
              "    .dataframe tbody tr th {\n",
              "        vertical-align: top;\n",
              "    }\n",
              "\n",
              "    .dataframe thead th {\n",
              "        text-align: right;\n",
              "    }\n",
              "</style>\n",
              "<table border=\"1\" class=\"dataframe\">\n",
              "  <thead>\n",
              "    <tr style=\"text-align: right;\">\n",
              "      <th></th>\n",
              "      <th>FECHA DE JUEGO</th>\n",
              "      <th>SORTEO</th>\n",
              "      <th>NÚMERO</th>\n",
              "      <th>SERIE</th>\n",
              "    </tr>\n",
              "  </thead>\n",
              "  <tbody>\n",
              "    <tr>\n",
              "      <th>0</th>\n",
              "      <td>01/05/2007 12:00:00 AM</td>\n",
              "      <td>3834</td>\n",
              "      <td>3652</td>\n",
              "      <td>149</td>\n",
              "    </tr>\n",
              "    <tr>\n",
              "      <th>1</th>\n",
              "      <td>01/12/2007 12:00:00 AM</td>\n",
              "      <td>3835</td>\n",
              "      <td>9407</td>\n",
              "      <td>80</td>\n",
              "    </tr>\n",
              "    <tr>\n",
              "      <th>2</th>\n",
              "      <td>01/19/2007 12:00:00 AM</td>\n",
              "      <td>3836</td>\n",
              "      <td>9864</td>\n",
              "      <td>97</td>\n",
              "    </tr>\n",
              "    <tr>\n",
              "      <th>3</th>\n",
              "      <td>01/26/2007 12:00:00 AM</td>\n",
              "      <td>3837</td>\n",
              "      <td>5589</td>\n",
              "      <td>54</td>\n",
              "    </tr>\n",
              "    <tr>\n",
              "      <th>4</th>\n",
              "      <td>02/02/2007 12:00:00 AM</td>\n",
              "      <td>3838</td>\n",
              "      <td>1721</td>\n",
              "      <td>102</td>\n",
              "    </tr>\n",
              "  </tbody>\n",
              "</table>\n",
              "</div>\n",
              "      <button class=\"colab-df-convert\" onclick=\"convertToInteractive('df-46c42f87-b4e7-4856-acd9-b472de15ceea')\"\n",
              "              title=\"Convert this dataframe to an interactive table.\"\n",
              "              style=\"display:none;\">\n",
              "        \n",
              "  <svg xmlns=\"http://www.w3.org/2000/svg\" height=\"24px\"viewBox=\"0 0 24 24\"\n",
              "       width=\"24px\">\n",
              "    <path d=\"M0 0h24v24H0V0z\" fill=\"none\"/>\n",
              "    <path d=\"M18.56 5.44l.94 2.06.94-2.06 2.06-.94-2.06-.94-.94-2.06-.94 2.06-2.06.94zm-11 1L8.5 8.5l.94-2.06 2.06-.94-2.06-.94L8.5 2.5l-.94 2.06-2.06.94zm10 10l.94 2.06.94-2.06 2.06-.94-2.06-.94-.94-2.06-.94 2.06-2.06.94z\"/><path d=\"M17.41 7.96l-1.37-1.37c-.4-.4-.92-.59-1.43-.59-.52 0-1.04.2-1.43.59L10.3 9.45l-7.72 7.72c-.78.78-.78 2.05 0 2.83L4 21.41c.39.39.9.59 1.41.59.51 0 1.02-.2 1.41-.59l7.78-7.78 2.81-2.81c.8-.78.8-2.07 0-2.86zM5.41 20L4 18.59l7.72-7.72 1.47 1.35L5.41 20z\"/>\n",
              "  </svg>\n",
              "      </button>\n",
              "      \n",
              "  <style>\n",
              "    .colab-df-container {\n",
              "      display:flex;\n",
              "      flex-wrap:wrap;\n",
              "      gap: 12px;\n",
              "    }\n",
              "\n",
              "    .colab-df-convert {\n",
              "      background-color: #E8F0FE;\n",
              "      border: none;\n",
              "      border-radius: 50%;\n",
              "      cursor: pointer;\n",
              "      display: none;\n",
              "      fill: #1967D2;\n",
              "      height: 32px;\n",
              "      padding: 0 0 0 0;\n",
              "      width: 32px;\n",
              "    }\n",
              "\n",
              "    .colab-df-convert:hover {\n",
              "      background-color: #E2EBFA;\n",
              "      box-shadow: 0px 1px 2px rgba(60, 64, 67, 0.3), 0px 1px 3px 1px rgba(60, 64, 67, 0.15);\n",
              "      fill: #174EA6;\n",
              "    }\n",
              "\n",
              "    [theme=dark] .colab-df-convert {\n",
              "      background-color: #3B4455;\n",
              "      fill: #D2E3FC;\n",
              "    }\n",
              "\n",
              "    [theme=dark] .colab-df-convert:hover {\n",
              "      background-color: #434B5C;\n",
              "      box-shadow: 0px 1px 3px 1px rgba(0, 0, 0, 0.15);\n",
              "      filter: drop-shadow(0px 1px 2px rgba(0, 0, 0, 0.3));\n",
              "      fill: #FFFFFF;\n",
              "    }\n",
              "  </style>\n",
              "\n",
              "      <script>\n",
              "        const buttonEl =\n",
              "          document.querySelector('#df-46c42f87-b4e7-4856-acd9-b472de15ceea button.colab-df-convert');\n",
              "        buttonEl.style.display =\n",
              "          google.colab.kernel.accessAllowed ? 'block' : 'none';\n",
              "\n",
              "        async function convertToInteractive(key) {\n",
              "          const element = document.querySelector('#df-46c42f87-b4e7-4856-acd9-b472de15ceea');\n",
              "          const dataTable =\n",
              "            await google.colab.kernel.invokeFunction('convertToInteractive',\n",
              "                                                     [key], {});\n",
              "          if (!dataTable) return;\n",
              "\n",
              "          const docLinkHtml = 'Like what you see? Visit the ' +\n",
              "            '<a target=\"_blank\" href=https://colab.research.google.com/notebooks/data_table.ipynb>data table notebook</a>'\n",
              "            + ' to learn more about interactive tables.';\n",
              "          element.innerHTML = '';\n",
              "          dataTable['output_type'] = 'display_data';\n",
              "          await google.colab.output.renderOutput(dataTable, element);\n",
              "          const docLink = document.createElement('div');\n",
              "          docLink.innerHTML = docLinkHtml;\n",
              "          element.appendChild(docLink);\n",
              "        }\n",
              "      </script>\n",
              "    </div>\n",
              "  </div>\n",
              "  "
            ]
          },
          "metadata": {},
          "execution_count": 3
        }
      ],
      "source": [
        "lotmed = pd.read_csv(io.BytesIO(uploaded['lotmed.csv']))\n",
        "lotmed.head()"
      ]
    },
    {
      "cell_type": "markdown",
      "source": [
        "# Análisis estadístico."
      ],
      "metadata": {
        "id": "hEefOfY_vV4X"
      }
    },
    {
      "cell_type": "code",
      "execution_count": 19,
      "metadata": {
        "colab": {
          "base_uri": "https://localhost:8080/"
        },
        "id": "1VZzYtH2qaGe",
        "outputId": "4a88c57e-edbf-4e8c-c900-bc5ae970d236"
      },
      "outputs": [
        {
          "output_type": "stream",
          "name": "stdout",
          "text": [
            "Los números han caído minimo dos veces repetidas son : 0       99\n",
            "1      169\n",
            "2      265\n",
            "3      268\n",
            "4      539\n",
            "5      575\n",
            "6      863\n",
            "7     1363\n",
            "8     1515\n",
            "9     1721\n",
            "10    1897\n",
            "11    2350\n",
            "12    2416\n",
            "13    2570\n",
            "14    2727\n",
            "15    2816\n",
            "16    3045\n",
            "17    3257\n",
            "18    4468\n",
            "19    4637\n",
            "20    4702\n",
            "21    5249\n",
            "22    5589\n",
            "23    6566\n",
            "24    6620\n",
            "25    6645\n",
            "26    6935\n",
            "27    7307\n",
            "28    7321\n",
            "29    7403\n",
            "30    7707\n",
            "31    7852\n",
            "32    8207\n",
            "33    8251\n",
            "34    9063\n",
            "35    9129\n",
            "dtype: int64 \n",
            "La serie que más se han repetido es : 53 \n"
          ]
        }
      ],
      "source": [
        "from statistics import mode\n",
        "\n",
        "\n",
        "moda_num = lotmed['NÚMERO'].mode()\n",
        "print('Los números han caído minimo dos veces repetidas son : {} '.format(moda_num))\n",
        "\n",
        "print('La serie que más se han repetido es : {} '.format(mode(lotmed['SERIE'])))"
      ]
    },
    {
      "cell_type": "code",
      "execution_count": 5,
      "metadata": {
        "colab": {
          "base_uri": "https://localhost:8080/"
        },
        "id": "bYc43KrRrTN0",
        "outputId": "9e0e8182-aa26-49d6-8d58-1af1c773f27c"
      },
      "outputs": [
        {
          "output_type": "stream",
          "name": "stdout",
          "text": [
            "Los números que se repiten y su respectiva frecuencia son : 9063    2\n",
            "7852    2\n",
            "169     2\n",
            "7307    2\n",
            "575     2\n",
            "       ..\n",
            "2271    1\n",
            "4286    1\n",
            "860     1\n",
            "7298    1\n",
            "6451    1\n",
            "Name: NÚMERO, Length: 761, dtype: int64\n",
            "Las series que más se repiten son  : 53     10\n",
            "166     7\n",
            "16      6\n",
            "73      6\n",
            "152     6\n",
            "       ..\n",
            "18      1\n",
            "117     1\n",
            "62      1\n",
            "27      1\n",
            "367     1\n",
            "Name: SERIE, Length: 295, dtype: int64\n"
          ]
        }
      ],
      "source": [
        "rep_num = lotmed['NÚMERO'].value_counts()\n",
        "print('Los números que se repiten y su respectiva frecuencia son : {}'.format(rep_num))\n",
        "\n",
        "\n",
        "rep_serie = lotmed['SERIE'].value_counts()\n",
        "print('Las series que más se repiten son  : {}'.format(rep_serie))\n"
      ]
    },
    {
      "cell_type": "code",
      "execution_count": 6,
      "metadata": {
        "colab": {
          "base_uri": "https://localhost:8080/",
          "height": 441
        },
        "id": "1IT7LDVLnCcU",
        "outputId": "dc5e4e6d-5af5-4f07-98f3-b7e2d5f9ffb7"
      },
      "outputs": [
        {
          "output_type": "display_data",
          "data": {
            "text/plain": [
              "<Figure size 432x432 with 3 Axes>"
            ],
            "image/png": "[encoded data removed]"
          },
          "metadata": {
            "needs_background": "light"
          }
        }
      ],
      "source": [
        "graf=sns.jointplot(data= lotmed, x='NÚMERO', y='SERIE', kind='hex', color='black')\n",
        "# graf.plot_joint(sns.kdeplot, color='r', zorder=0, level= 20)\n",
        "# graf.plot_marginals(sns.rugplot, color='r', height=-.03, clip_on= False)"
      ]
    },
    {
      "cell_type": "code",
      "execution_count": 7,
      "metadata": {
        "colab": {
          "base_uri": "https://localhost:8080/"
        },
        "id": "2dswh08OC6n3",
        "outputId": "11e1b7b2-13a0-4b81-d454-2f9f9f54cc49"
      },
      "outputs": [
        {
          "output_type": "execute_result",
          "data": {
            "text/plain": [
              "0    3652\n",
              "1    9407\n",
              "2    9864\n",
              "3    5589\n",
              "4    1721\n",
              "Name: NÚMERO, dtype: int64"
            ]
          },
          "metadata": {},
          "execution_count": 7
        }
      ],
      "source": [
        "num_list = lotmed['NÚMERO'] \n",
        "num_list.head(5)"
      ]
    },
    {
      "cell_type": "markdown",
      "source": [
        "## A continuación se hará una evaluación de la frecuencia con la que ha caído cada dígito de número."
      ],
      "metadata": {
        "id": "VP5GGhkiyvWd"
      }
    },
    {
      "cell_type": "code",
      "execution_count": 8,
      "metadata": {
        "id": "I8GSXWadNfKF"
      },
      "outputs": [],
      "source": [
        "single_num = []\n",
        "\n",
        "def split_value():\n",
        "  for i in num_list:\n",
        "    str_value = str(i)\n",
        "    if len(str_value) == 3:\n",
        "      add_cero = '0' + str_value\n",
        "    elif len(str_value) == 2:\n",
        "      add_cero = '00' + str_value\n",
        "    elif len(str_value) == 1:\n",
        "      add_cero = '000' + str_value\n",
        "    else:\n",
        "      add_cero = str_value\n",
        "    for x in range(len(add_cero)):\n",
        "      single_num.append(add_cero[x])\n",
        "          \n",
        "if __name__ == '__main__':\n",
        "  split_value()\n"
      ]
    },
    {
      "cell_type": "markdown",
      "source": [
        "### El siguiente gráfico muestra que los cuatro dígitos que más han caído en las diferentes urnas donde juegan los números son : 2,5,9,7 en ese mismo orden."
      ],
      "metadata": {
        "id": "PFXwB6glzUbI"
      }
    },
    {
      "cell_type": "code",
      "source": [
        "sns.displot(data=single_num)"
      ],
      "metadata": {
        "colab": {
          "base_uri": "https://localhost:8080/",
          "height": 387
        },
        "id": "QXiORTfT45N-",
        "outputId": "d6d10a25-089f-4088-f2ff-500d23c0f530"
      },
      "execution_count": 9,
      "outputs": [
        {
          "output_type": "execute_result",
          "data": {
            "text/plain": [
              "<seaborn.axisgrid.FacetGrid at 0x7f419cb5e7d0>"
            ]
          },
          "metadata": {},
          "execution_count": 9
        },
        {
          "output_type": "display_data",
          "data": {
            "text/plain": [
              "<Figure size 360x360 with 1 Axes>"
            ],
            "image/png": "[encoded data removed]"
          },
          "metadata": {
            "needs_background": "light"
          }
        }
      ]
    },
    {
      "cell_type": "markdown",
      "source": [
        "### Se calculará mediante porcentajes la frecuencia global de los números que más han caído en la lotería de Medellín"
      ],
      "metadata": {
        "id": "qVMhKHpQoKe4"
      }
    },
    {
      "cell_type": "code",
      "source": [
        "df=pd.DataFrame(single_num, columns= ['single_values'])\n",
        "((df['single_values'].value_counts()/len(df))*100).sort_values(ascending=False)"
      ],
      "metadata": {
        "colab": {
          "base_uri": "https://localhost:8080/"
        },
        "id": "NL-kEUnmoJWb",
        "outputId": "0b8ec56c-2675-4823-d824-0a874c951fe4"
      },
      "execution_count": 10,
      "outputs": [
        {
          "output_type": "execute_result",
          "data": {
            "text/plain": [
              "2    10.664994\n",
              "5    10.508156\n",
              "9    10.382685\n",
              "7    10.194479\n",
              "6    10.069009\n",
              "8     9.974906\n",
              "1     9.912171\n",
              "4     9.441656\n",
              "0     9.441656\n",
              "3     9.410289\n",
              "Name: single_values, dtype: float64"
            ]
          },
          "metadata": {},
          "execution_count": 10
        }
      ]
    },
    {
      "cell_type": "markdown",
      "source": [
        "### Se hará un muestreo sistemático, en el que se estudiará cada colúmna de número, referente al funcionamiento de la máquina, para ver cual es el número que más ha caído en cada una de las casillas."
      ],
      "metadata": {
        "id": "MP73lYz231fA"
      }
    },
    {
      "cell_type": "markdown",
      "source": [
        "## Columna número 1:"
      ],
      "metadata": {
        "id": "XJlO_sku8amr"
      }
    },
    {
      "cell_type": "code",
      "source": [
        "def systematic_sampling(df,step):\n",
        "  global systematic_sample\n",
        "  indexes = np.arange(0,len(df),step=step)\n",
        "  systematic_sample = df.iloc[indexes]\n",
        "  return systematic_sample\n",
        "\n",
        "systematic_sample = systematic_sampling(df,4)\n",
        "\n",
        "column_1 = systematic_sample['single_values']\n",
        "\n",
        "sns.displot(data= column_1, color= 'orange')\n",
        "\n",
        "((systematic_sample['single_values'].value_counts()/len(systematic_sample))*100).sort_values(ascending=False)"
      ],
      "metadata": {
        "colab": {
          "base_uri": "https://localhost:8080/",
          "height": 572
        },
        "id": "76iBVUMl4UR2",
        "outputId": "567978bd-dc14-43cb-a6b9-dd9877cc6e06"
      },
      "execution_count": 11,
      "outputs": [
        {
          "output_type": "execute_result",
          "data": {
            "text/plain": [
              "9    11.794228\n",
              "1    10.915935\n",
              "7    10.915935\n",
              "2    10.288582\n",
              "6    10.288582\n",
              "5    10.037641\n",
              "3     9.912171\n",
              "4     8.908407\n",
              "0     8.531995\n",
              "8     8.406524\n",
              "Name: single_values, dtype: float64"
            ]
          },
          "metadata": {},
          "execution_count": 11
        },
        {
          "output_type": "display_data",
          "data": {
            "text/plain": [
              "<Figure size 360x360 with 1 Axes>"
            ],
            "image/png": "[encoded data removed]"
          },
          "metadata": {
            "needs_background": "light"
          }
        }
      ]
    },
    {
      "cell_type": "markdown",
      "source": [
        "## Columna número 2:"
      ],
      "metadata": {
        "id": "M8Jgnnvk80wq"
      }
    },
    {
      "cell_type": "code",
      "source": [
        "def systematic_sampling(df,step):\n",
        "  indexes = np.arange(1,len(df),step=step)\n",
        "  systematic_sample = df.iloc[indexes]\n",
        "  return systematic_sample\n",
        "\n",
        "systematic_sample = systematic_sampling(df,4)\n",
        "\n",
        "column_2 = systematic_sample['single_values']\n",
        "\n",
        "sns.displot(data= column_2, color= 'red')\n",
        "\n",
        "((systematic_sample['single_values'].value_counts()/len(systematic_sample))*100).sort_values(ascending=False)"
      ],
      "metadata": {
        "colab": {
          "base_uri": "https://localhost:8080/",
          "height": 572
        },
        "id": "t9m4_w5r5VWk",
        "outputId": "c57688c3-bbf1-4c57-b703-a02cce115f7c"
      },
      "execution_count": 12,
      "outputs": [
        {
          "output_type": "execute_result",
          "data": {
            "text/plain": [
              "5    11.292346\n",
              "8    10.915935\n",
              "6    10.414053\n",
              "2    10.414053\n",
              "3    10.163112\n",
              "7    10.037641\n",
              "4     9.535759\n",
              "9     9.535759\n",
              "0     9.159348\n",
              "1     8.531995\n",
              "Name: single_values, dtype: float64"
            ]
          },
          "metadata": {},
          "execution_count": 12
        },
        {
          "output_type": "display_data",
          "data": {
            "text/plain": [
              "<Figure size 360x360 with 1 Axes>"
            ],
            "image/png": "[encoded data removed]"
          },
          "metadata": {
            "needs_background": "light"
          }
        }
      ]
    },
    {
      "cell_type": "markdown",
      "source": [
        "## Columna número 3:"
      ],
      "metadata": {
        "id": "9h_Mh3ho_F9P"
      }
    },
    {
      "cell_type": "code",
      "source": [
        "def systematic_sampling(df,step):\n",
        "  indexes = np.arange(2,len(df),step=step)\n",
        "  systematic_sample = df.iloc[indexes]\n",
        "  return systematic_sample\n",
        "\n",
        "systematic_sample = systematic_sampling(df,4)\n",
        "\n",
        "column_3 = systematic_sample['single_values']\n",
        "\n",
        "sns.displot(data= column_3, color= 'green')\n",
        "\n",
        "((systematic_sample['single_values'].value_counts()/len(systematic_sample))*100).sort_values(ascending=False)"
      ],
      "metadata": {
        "colab": {
          "base_uri": "https://localhost:8080/",
          "height": 572
        },
        "id": "6sFfBwfj_FeA",
        "outputId": "46e1a371-2a43-46fc-fd4e-0cb6aaccf8ae"
      },
      "execution_count": 13,
      "outputs": [
        {
          "output_type": "execute_result",
          "data": {
            "text/plain": [
              "0    11.166876\n",
              "4    10.539523\n",
              "5    10.414053\n",
              "2    10.414053\n",
              "7    10.288582\n",
              "8    10.163112\n",
              "6     9.535759\n",
              "1     9.284818\n",
              "3     9.284818\n",
              "9     8.908407\n",
              "Name: single_values, dtype: float64"
            ]
          },
          "metadata": {},
          "execution_count": 13
        },
        {
          "output_type": "display_data",
          "data": {
            "text/plain": [
              "<Figure size 360x360 with 1 Axes>"
            ],
            "image/png": "[encoded data removed]"
          },
          "metadata": {
            "needs_background": "light"
          }
        }
      ]
    },
    {
      "cell_type": "markdown",
      "source": [
        "## Columna número 4:"
      ],
      "metadata": {
        "id": "hIZFVM82_bcD"
      }
    },
    {
      "cell_type": "code",
      "source": [
        "def systematic_sampling(df,step):\n",
        "  indexes = np.arange(3,len(df),step=step)\n",
        "  systematic_sample = df.iloc[indexes]\n",
        "  return systematic_sample\n",
        "\n",
        "systematic_sample = systematic_sampling(df,4)\n",
        "\n",
        "column_4 = systematic_sample['single_values']\n",
        "\n",
        "sns.displot(data= column_4, color= 'black')\n",
        "\n",
        "((systematic_sample['single_values'].value_counts()/len(systematic_sample))*100).sort_values(ascending=False)\n"
      ],
      "metadata": {
        "colab": {
          "base_uri": "https://localhost:8080/",
          "height": 572
        },
        "id": "Xgp3miJd_aXF",
        "outputId": "a3981ecd-54b4-42ae-e8d8-9fa93273c1f5"
      },
      "execution_count": 14,
      "outputs": [
        {
          "output_type": "execute_result",
          "data": {
            "text/plain": [
              "2    11.543287\n",
              "9    11.292346\n",
              "1    10.915935\n",
              "8    10.414053\n",
              "5    10.288582\n",
              "6    10.037641\n",
              "7     9.535759\n",
              "0     8.908407\n",
              "4     8.782936\n",
              "3     8.281054\n",
              "Name: single_values, dtype: float64"
            ]
          },
          "metadata": {},
          "execution_count": 14
        },
        {
          "output_type": "display_data",
          "data": {
            "text/plain": [
              "<Figure size 360x360 with 1 Axes>"
            ],
            "image/png": "[encoded data removed]"
          },
          "metadata": {
            "needs_background": "light"
          }
        }
      ]
    },
    {
      "cell_type": "markdown",
      "source": [
        "#Estudio del número de serie."
      ],
      "metadata": {
        "id": "uih_7TAUzvSQ"
      }
    },
    {
      "cell_type": "code",
      "source": [
        "serie_list = lotmed['SERIE'] \n",
        "x=serie_list.sort_values(ascending=False)\n",
        "x.head(10)\n",
        "\n",
        "#Lísta de los 10 número de serie más altos que han caído"
      ],
      "metadata": {
        "colab": {
          "base_uri": "https://localhost:8080/"
        },
        "id": "xpp8DJuk0GW2",
        "outputId": "c3c670e6-09b3-4d04-9615-a53b33c98aaf"
      },
      "execution_count": 15,
      "outputs": [
        {
          "output_type": "execute_result",
          "data": {
            "text/plain": [
              "791    367\n",
              "750    354\n",
              "747    351\n",
              "773    349\n",
              "778    338\n",
              "748    337\n",
              "602    336\n",
              "603    335\n",
              "682    334\n",
              "590    334\n",
              "Name: SERIE, dtype: int64"
            ]
          },
          "metadata": {},
          "execution_count": 15
        }
      ]
    },
    {
      "cell_type": "code",
      "source": [
        "single_serie = []\n",
        "\n",
        "def split_serie():\n",
        "  for i in serie_list:\n",
        "    str_serie = str(i)\n",
        "    if len(str_serie) == 2:\n",
        "      add_cero = '0' + str_serie\n",
        "    elif len(str_serie) == 1:\n",
        "      add_cero = '00' + str_serie\n",
        "    else:\n",
        "      add_cero = str_serie\n",
        "    for x in range(len(add_cero)):\n",
        "      single_serie.append(add_cero[x])\n",
        "          \n",
        "if __name__ == '__main__':\n",
        "  split_serie()"
      ],
      "metadata": {
        "id": "XMW8lgSAz-_B"
      },
      "execution_count": 16,
      "outputs": []
    },
    {
      "cell_type": "code",
      "source": [
        "df_serie=pd.DataFrame(single_serie, columns= ['single_values'])\n",
        "((df_serie['single_values'].value_counts()/len(df))*100).sort_values(ascending=False)"
      ],
      "metadata": {
        "colab": {
          "base_uri": "https://localhost:8080/"
        },
        "id": "_W_scd9m1O7p",
        "outputId": "d7538a90-c9c1-47e6-9139-aa1abcdd07df"
      },
      "execution_count": 17,
      "outputs": [
        {
          "output_type": "execute_result",
          "data": {
            "text/plain": [
              "1    15.025094\n",
              "0    13.456713\n",
              "2    11.606023\n",
              "3     7.120452\n",
              "4     5.144291\n",
              "6     4.956085\n",
              "5     4.736512\n",
              "8     4.360100\n",
              "9     4.328733\n",
              "7     4.265997\n",
              "Name: single_values, dtype: float64"
            ]
          },
          "metadata": {},
          "execution_count": 17
        }
      ]
    },
    {
      "cell_type": "code",
      "source": [
        "def systematic_sampling(df_serie,step):\n",
        "  indexes = np.arange(0,len(df_serie),step=step)\n",
        "  systematic_sample = df.iloc[indexes]\n",
        "  return systematic_sample\n",
        "\n",
        "systematic_sample = systematic_sampling(df_serie,3)\n",
        "\n",
        "column_1_serie = systematic_sample['single_values']\n",
        "\n",
        "sns.displot(data= column_1_serie, color= 'black')\n",
        "\n",
        "((systematic_sample['single_values'].value_counts()/len(systematic_sample))*100).sort_values(ascending=False)"
      ],
      "metadata": {
        "colab": {
          "base_uri": "https://localhost:8080/",
          "height": 572
        },
        "id": "fmLa1cLS9QjL",
        "outputId": "db4408f1-f3d2-4bde-8f09-fa3777d1dadb"
      },
      "execution_count": 18,
      "outputs": [
        {
          "output_type": "execute_result",
          "data": {
            "text/plain": [
              "9    12.421581\n",
              "4    11.041405\n",
              "2    10.414053\n",
              "3    10.037641\n",
              "6     9.786700\n",
              "8     9.661230\n",
              "0     9.535759\n",
              "5     9.284818\n",
              "1     9.033877\n",
              "7     8.782936\n",
              "Name: single_values, dtype: float64"
            ]
          },
          "metadata": {},
          "execution_count": 18
        },
        {
          "output_type": "display_data",
          "data": {
            "text/plain": [
              "<Figure size 360x360 with 1 Axes>"
            ],
            "image/png": "[encoded data removed]"
          },
          "metadata": {
            "needs_background": "light"
          }
        }
      ]
    }
  ],
  "metadata": {
    "accelerator": "GPU",
    "colab": {
      "name": "Análisis lotería de Medellín",
      "provenance": [],
      "authorship_tag": "ABX9TyPD0/kt/WNPWKWNN1AUTQi9",
      "include_colab_link": true
    },
    "gpuClass": "standard",
    "kernelspec": {
      "display_name": "Python 3",
      "name": "python3"
    },
    "language_info": {
      "name": "python"
    }
  },
  "nbformat": 4,
  "nbformat_minor": 0
}