{
  "nbformat": 4,
  "nbformat_minor": 0,
  "metadata": {
    "colab": {
      "name": "El juego del dado",
      "provenance": [],
      "authorship_tag": "ABX9TyO++LuWKp21FgMKXBPf50bc",
      "include_colab_link": true
    },
    "kernelspec": {
      "name": "python3",
      "display_name": "Python 3"
    },
    "language_info": {
      "name": "python"
    }
  },
  "cells": [
    {
      "cell_type": "markdown",
      "metadata": {
        "id": "view-in-github",
        "colab_type": "text"
      },
      "source": [
        "<a href=\"https://colab.research.google.com/github/davidest1995/personal_projects/blob/main/El_juego_del_dado.ipynb\" target=\"_parent\"><img src=\"https://colab.research.google.com/assets/colab-badge.svg\" alt=\"Open In Colab\"/></a>"
      ]
    },
    {
      "cell_type": "code",
      "execution_count": 2,
      "metadata": {
        "colab": {
          "base_uri": "https://localhost:8080/",
          "height": 539
        },
        "id": "vr4NdZydRrYq",
        "outputId": "73baf14b-085c-4991-f327-a05f478ddc86"
      },
      "outputs": [
        {
          "output_type": "stream",
          "name": "stdout",
          "text": [
            "Cuantas veces quiere tirar el dado ? 10000\n",
            "      result string\n",
            "0          4    NaN\n",
            "1          4    NaN\n",
            "2          1    NaN\n",
            "3          5    NaN\n",
            "4          1    NaN\n",
            "...      ...    ...\n",
            "9995       2    NaN\n",
            "9996       3    NaN\n",
            "9997       5    NaN\n",
            "9998       5    NaN\n",
            "9999       3    NaN\n",
            "\n",
            "[10000 rows x 2 columns]\n"
          ]
        },
        {
          "output_type": "display_data",
          "data": {
            "text/plain": [
              "<Figure size 432x288 with 1 Axes>"
            ],
            "image/png": "[encoded data removed]"
          },
          "metadata": {
            "needs_background": "light"
          }
        }
      ],
      "source": [
        "from re import X\n",
        "import numpy as np\n",
        "import random\n",
        "import pandas as pd\n",
        "import seaborn as sns\n",
        "\n",
        "lista= []\n",
        "\n",
        "def play_the_dice(times):\n",
        "  for i in range(0,times):\n",
        "    result = random.randint(1,6)\n",
        "    lista.append(result)\n",
        "\n",
        "def strings(raw_result):\n",
        "  for i in  raw_result:\n",
        "    if i is 1:\n",
        "      x= 'Uno'\n",
        "      return x\n",
        "    elif i is 2:\n",
        "      x= 'Dos'\n",
        "      return x\n",
        "    elif i is 3:\n",
        "      x= 'Tres'\n",
        "      return x\n",
        "    elif i is 4:\n",
        "      x= 'Cuatro'\n",
        "      return x\n",
        "    elif i is 5:\n",
        "      x= 'Cinco'\n",
        "      return x\n",
        "    else:\n",
        "      x= 'Seis'\n",
        "      return x      \n",
        "\n",
        "# Transformada de tangente hiperbólica de la data \"raw\"\n",
        "def train_tanh():\n",
        "  p=10\n",
        "  global raw_result\n",
        "  raw= {'result':lista}\n",
        "  raw = pd.DataFrame(raw)\n",
        "  sns.histplot(raw['result'])\n",
        "  raw['string'] = raw.apply(strings)\n",
        "  raw_result=raw['result']\n",
        "  print(raw)\n",
        "  \n",
        "  # transform_tanh = raw.apply(lambda x : np.tanh(x/p))\n",
        "  # transform_tanh.hist()\n",
        "  # x =  raw.groupby('result').agg({'result':['mean']})\n",
        "  # print(x)\n",
        "\n",
        "\n",
        "def main():\n",
        "  times = int(input('Cuantas veces quiere tirar el dado ? '))\n",
        "  play_the_dice(times)\n",
        "  train_tanh()\n",
        "\n",
        "\n",
        "if __name__ == '__main__':\n",
        "  main()\n",
        "\n"
      ]
    },
    {
      "cell_type": "code",
      "source": [
        "df=pd.DataFrame(raw_result, columns= ['result'])\n",
        "((df['result'].value_counts()/len(df))*100).sort_values(ascending=False)"
      ],
      "metadata": {
        "colab": {
          "base_uri": "https://localhost:8080/"
        },
        "id": "9BBJcGvVuqoA",
        "outputId": "bffdb6cf-0351-4726-8b4c-57ae7824faf9"
      },
      "execution_count": 4,
      "outputs": [
        {
          "output_type": "execute_result",
          "data": {
            "text/plain": [
              "4    17.12\n",
              "6    16.91\n",
              "3    16.90\n",
              "5    16.75\n",
              "2    16.74\n",
              "1    15.58\n",
              "Name: result, dtype: float64"
            ]
          },
          "metadata": {},
          "execution_count": 4
        }
      ]
    },
    {
      "cell_type": "markdown",
      "source": [
        "# Se concluye que:\n",
        "\n",
        "A medida que el número de intentos tiende a infinito, la probabilidad de que salga cada uno de los números del dado tiende a su probabilidad esperada de 1/6."
      ],
      "metadata": {
        "id": "T6Pak9UQvqeo"
      }
    }
  ]
}