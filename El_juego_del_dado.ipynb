{
  "nbformat": 4,
  "nbformat_minor": 0,
  "metadata": {
    "colab": {
      "name": "El juego del dado",
      "provenance": [],
      "collapsed_sections": [],
      "authorship_tag": "ABX9TyPQvhBAiCZsdqN8LjRmmtDz",
      "include_colab_link": true
    },
    "kernelspec": {
      "name": "python3",
      "display_name": "Python 3"
    },
    "language_info": {
      "name": "python"
    }
  },
  "cells": [
    {
      "cell_type": "markdown",
      "metadata": {
        "id": "view-in-github",
        "colab_type": "text"
      },
      "source": [
        "<a href=\"https://colab.research.google.com/github/davidest1995/personal_projects/blob/main/El_juego_del_dado.ipynb\" target=\"_parent\"><img src=\"https://colab.research.google.com/assets/colab-badge.svg\" alt=\"Open In Colab\"/></a>"
      ]
    },
    {
      "cell_type": "code",
      "source": [
        "import numpy as np\n",
        "import random\n",
        "import pandas as pd\n",
        "import seaborn as sns\n",
        "\n",
        "lista= []\n",
        "\n",
        "def play_the_dice(times):\n",
        "  for i in range(0,times):\n",
        "    result = random.randint(1,6)\n",
        "    lista.append(result)\n",
        "\n",
        "def list_to_df():\n",
        "  global df\n",
        "  df= {'result':lista}\n",
        "  df = pd.DataFrame(df)\n",
        "\n",
        "def num_to_string():\n",
        "  df['string_num'] = df['result'].apply(new_column)\n",
        "  print(df)\n",
        "\n",
        "def new_column(value):\n",
        "  if value == 1:\n",
        "     return 'Uno' \n",
        "  elif value == 2:\n",
        "      return 'Dos'\n",
        "  elif value == 3:\n",
        "      return 'Tres'\n",
        "  elif value == 4:\n",
        "      return 'Cuatro'\n",
        "  elif value == 5:\n",
        "      return 'Cinco'\n",
        "  else:\n",
        "      return 'Seis'   \n",
        "\n",
        "def percentage():\n",
        "  global frec\n",
        "  percent=pd.DataFrame(df, columns= ['result'])\n",
        "  frec = ((df['result'].value_counts()/len(df))*100).sort_values(ascending=False)\n",
        "\n",
        "def hist_plot():\n",
        "  sns.histplot(df['result'])\n",
        "\n",
        "def main():\n",
        "  times = int(input('Cuantas veces quiere tirar el dado ? '))\n",
        "  attempt = times\n",
        "  play_the_dice(times)\n",
        "  list_to_df()\n",
        "  num_to_string()\n",
        "  percentage()\n",
        "  print('El porcentaje que cae cada número en los {} intentos de tirar el dado es: {} '.format(attempt,frec))\n",
        "  hist_plot()\n",
        "\n",
        "\n",
        "if __name__ == '__main__':\n",
        "  main()"
      ],
      "metadata": {
        "colab": {
          "base_uri": "https://localhost:8080/",
          "height": 685
        },
        "id": "geYbv91ixl-L",
        "outputId": "f91f43b9-18ea-4ec2-ce7b-109f1a3c8e52"
      },
      "execution_count": 41,
      "outputs": [
        {
          "output_type": "stream",
          "name": "stdout",
          "text": [
            "Cuantas veces quiere tirar el dado ? 1000\n",
            "     result string_num\n",
            "0         3       Tres\n",
            "1         4     Cuatro\n",
            "2         6       Seis\n",
            "3         3       Tres\n",
            "4         2        Dos\n",
            "..      ...        ...\n",
            "995       6       Seis\n",
            "996       4     Cuatro\n",
            "997       5      Cinco\n",
            "998       4     Cuatro\n",
            "999       5      Cinco\n",
            "\n",
            "[1000 rows x 2 columns]\n",
            "El porcentaje que cae cada número en los 1000 intentos de tirar el dado es: 6    18.0\n",
            "2    17.4\n",
            "1    17.2\n",
            "5    16.9\n",
            "3    16.1\n",
            "4    14.4\n",
            "Name: result, dtype: float64 \n"
          ]
        },
        {
          "output_type": "display_data",
          "data": {
            "text/plain": [
              "<Figure size 432x288 with 1 Axes>"
            ],
            "image/png": "[encoded data removed]"
          },
          "metadata": {
            "needs_background": "light"
          }
        }
      ]
    },
    {
      "cell_type": "markdown",
      "source": [
        "# Se concluye que:\n",
        "\n",
        "A medida que el número de intentos tiende a infinito, la probabilidad de que salga cada uno de los números del dado tiende a su probabilidad esperada de 1/6."
      ],
      "metadata": {
        "id": "T6Pak9UQvqeo"
      }
    }
  ]
}